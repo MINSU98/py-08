{
  "nbformat": 4,
  "nbformat_minor": 0,
  "metadata": {
    "colab": {
      "name": "wk02_variables.ipynb",
      "version": "0.3.2",
      "provenance": [],
      "collapsed_sections": [],
      "include_colab_link": true
    },
    "kernelspec": {
      "name": "python3",
      "display_name": "Python 3"
    }
  },
  "cells": [
    {
      "cell_type": "markdown",
      "metadata": {
        "id": "view-in-github",
        "colab_type": "text"
      },
      "source": [
        "[View in Colaboratory](https://colab.research.google.com/github/MINSU98/py-08/blob/master/wk02_variables.ipynb)"
      ]
    },
    {
      "metadata": {
        "id": "rixOtLV17zHL",
        "colab_type": "toc"
      },
      "cell_type": "markdown",
      "source": [
        ">>[변수 (variables)](#updateTitle=true&folderId=19dP6bq2taX4fo1lD1jf-ejlouYNeQui1&scrollTo=i4s0AZ-1qZV0)\n",
        "\n",
        ">>[동적변수](#updateTitle=true&folderId=19dP6bq2taX4fo1lD1jf-ejlouYNeQui1&scrollTo=h50DsfdTsSPj)\n",
        "\n",
        ">>[문자열](#updateTitle=true&folderId=19dP6bq2taX4fo1lD1jf-ejlouYNeQui1&scrollTo=h8upxbRbsp07)\n",
        "\n",
        ">>[여러 행 문자열(\"\"\"~~\"\"\")](#updateTitle=true&folderId=19dP6bq2taX4fo1lD1jf-ejlouYNeQui1&scrollTo=LCsf1qFBtaXr)\n",
        "\n",
        ">>[여러 행 수식](#updateTitle=true&folderId=19dP6bq2taX4fo1lD1jf-ejlouYNeQui1&scrollTo=1oI-zvjOt-RK)\n",
        "\n",
        ">>[숫자와 문자열 처리](#updateTitle=true&folderId=19dP6bq2taX4fo1lD1jf-ejlouYNeQui1&scrollTo=HGpH59TtuVl8)\n",
        "\n",
        ">>[변수 type](#updateTitle=true&folderId=19dP6bq2taX4fo1lD1jf-ejlouYNeQui1&scrollTo=_uYlspDVvV_L)\n",
        "\n",
        ">>[Python data types](#updateTitle=true&folderId=19dP6bq2taX4fo1lD1jf-ejlouYNeQui1&scrollTo=oSkS8UA9wEAs)\n",
        "\n",
        ">>[문자열을 숫자로 변환 :  int(), float()](#updateTitle=true&folderId=19dP6bq2taX4fo1lD1jf-ejlouYNeQui1&scrollTo=1e0XfIaCwxA9)\n",
        "\n",
        ">>[예약어(keywords)](#updateTitle=true&folderId=19dP6bq2taX4fo1lD1jf-ejlouYNeQui1&scrollTo=NYiPfA5j0lez)\n",
        "\n",
        ">>[User input](#updateTitle=true&folderId=19dP6bq2taX4fo1lD1jf-ejlouYNeQui1&scrollTo=FGypwTPk1hba)\n",
        "\n",
        ">>[Code block & Indentation(들여쓰기)](#updateTitle=true&folderId=19dP6bq2taX4fo1lD1jf-ejlouYNeQui1&scrollTo=sINEdHu211Aa)\n",
        "\n",
        ">>>[도전 코딩 1.BMI  = M/H**2, (M(kg), H(m))](#updateTitle=true&folderId=19dP6bq2taX4fo1lD1jf-ejlouYNeQui1&scrollTo=Jz6CqkS53Xz8)\n",
        "\n",
        ">>>[도전 코딩 2.Fat burning](#updateTitle=true&folderId=19dP6bq2taX4fo1lD1jf-ejlouYNeQui1&scrollTo=kdXTyqQG5xGR)\n",
        "\n"
      ]
    },
    {
      "metadata": {
        "id": "i4s0AZ-1qZV0",
        "colab_type": "text"
      },
      "cell_type": "markdown",
      "source": [
        "## 변수 (variables)"
      ]
    },
    {
      "metadata": {
        "id": "WBrFvyIBp57M",
        "colab_type": "code",
        "colab": {
          "base_uri": "https://localhost:8080/",
          "height": 35
        },
        "outputId": "9ace1a39-dafc-4e13-ff29-30a56687feab"
      },
      "cell_type": "code",
      "source": [
        "5-5+1+9"
      ],
      "execution_count": 1,
      "outputs": [
        {
          "output_type": "execute_result",
          "data": {
            "text/plain": [
              "10"
            ]
          },
          "metadata": {
            "tags": []
          },
          "execution_count": 1
        }
      ]
    },
    {
      "metadata": {
        "id": "WoQUVAIcqxTC",
        "colab_type": "code",
        "colab": {
          "base_uri": "https://localhost:8080/",
          "height": 35
        },
        "outputId": "4bf899e0-d63c-4df9-c77e-3a665162dd8a"
      },
      "cell_type": "code",
      "source": [
        "5/5/3+9"
      ],
      "execution_count": 2,
      "outputs": [
        {
          "output_type": "execute_result",
          "data": {
            "text/plain": [
              "9.333333333333334"
            ]
          },
          "metadata": {
            "tags": []
          },
          "execution_count": 2
        }
      ]
    },
    {
      "metadata": {
        "id": "tcAnCClUrCC7",
        "colab_type": "code",
        "colab": {
          "base_uri": "https://localhost:8080/",
          "height": 35
        },
        "outputId": "1d15d33f-893d-4917-8afe-cab69721c866"
      },
      "cell_type": "code",
      "source": [
        "5/(5/3)+9"
      ],
      "execution_count": 4,
      "outputs": [
        {
          "output_type": "execute_result",
          "data": {
            "text/plain": [
              "12.0"
            ]
          },
          "metadata": {
            "tags": []
          },
          "execution_count": 4
        }
      ]
    },
    {
      "metadata": {
        "id": "-f-6MVKfrNYk",
        "colab_type": "code",
        "colab": {
          "base_uri": "https://localhost:8080/",
          "height": 35
        },
        "outputId": "64f18acf-59cd-460e-f40f-f1b69531fcc2"
      },
      "cell_type": "code",
      "source": [
        "5/5*(1+9)"
      ],
      "execution_count": 5,
      "outputs": [
        {
          "output_type": "execute_result",
          "data": {
            "text/plain": [
              "10.0"
            ]
          },
          "metadata": {
            "tags": []
          },
          "execution_count": 5
        }
      ]
    },
    {
      "metadata": {
        "id": "h50DsfdTsSPj",
        "colab_type": "text"
      },
      "cell_type": "markdown",
      "source": [
        "## 동적변수"
      ]
    },
    {
      "metadata": {
        "id": "vjQsuaVOrsCb",
        "colab_type": "code",
        "colab": {}
      },
      "cell_type": "code",
      "source": [
        "some_var=100"
      ],
      "execution_count": 0,
      "outputs": []
    },
    {
      "metadata": {
        "id": "wnMwu0wAsXdk",
        "colab_type": "code",
        "colab": {}
      },
      "cell_type": "code",
      "source": [
        "some_var=\"강남스타일\""
      ],
      "execution_count": 0,
      "outputs": []
    },
    {
      "metadata": {
        "id": "d7BFXeNEsaUf",
        "colab_type": "code",
        "colab": {
          "base_uri": "https://localhost:8080/",
          "height": 35
        },
        "outputId": "64e1cd4b-10b5-4584-c495-df7843b2d091"
      },
      "cell_type": "code",
      "source": [
        "some_var"
      ],
      "execution_count": 8,
      "outputs": [
        {
          "output_type": "execute_result",
          "data": {
            "text/plain": [
              "'강남스타일'"
            ]
          },
          "metadata": {
            "tags": []
          },
          "execution_count": 8
        }
      ]
    },
    {
      "metadata": {
        "id": "h8upxbRbsp07",
        "colab_type": "text"
      },
      "cell_type": "markdown",
      "source": [
        "## 문자열"
      ]
    },
    {
      "metadata": {
        "id": "O_krjbgzserG",
        "colab_type": "code",
        "colab": {}
      },
      "cell_type": "code",
      "source": [
        "psy = \"오빤 강남스타일\" #문자열을 변수에 할당"
      ],
      "execution_count": 0,
      "outputs": []
    },
    {
      "metadata": {
        "id": "O0IN3x_ms0Sr",
        "colab_type": "code",
        "colab": {
          "base_uri": "https://localhost:8080/",
          "height": 35
        },
        "outputId": "f0e98524-8b18-4748-877c-27c6929d1582"
      },
      "cell_type": "code",
      "source": [
        "# 문자열을 연결\n",
        "psy = \"오빤 강남스타일 \"\n",
        "psy = psy+\"오, 강남스타일\"\n",
        "psy #연결 문자열을 확인"
      ],
      "execution_count": 14,
      "outputs": [
        {
          "output_type": "execute_result",
          "data": {
            "text/plain": [
              "'오빤 강남스타일 오, 강남스타일'"
            ]
          },
          "metadata": {
            "tags": []
          },
          "execution_count": 14
        }
      ]
    },
    {
      "metadata": {
        "id": "LCsf1qFBtaXr",
        "colab_type": "text"
      },
      "cell_type": "markdown",
      "source": [
        "## 여러 행 문자열(\"\"\"~~\"\"\")"
      ]
    },
    {
      "metadata": {
        "id": "IPokcycQs-1W",
        "colab_type": "code",
        "colab": {
          "base_uri": "https://localhost:8080/",
          "height": 35
        },
        "outputId": "ff1b0ef1-9838-4a7f-fa7c-8ace959ae5b2"
      },
      "cell_type": "code",
      "source": [
        "#따옴표를 세개 겹친 삼중 따옴표를 사용하면 줄 바꿈을 포함하는 문자열을 정의할 수 있다.\n",
        "\n",
        "\n",
        "psy = \"\"\"낮에는 따사로운 인간적인 여자\n",
        "커피 한잔의 여유를 아는 품격있는 여자\n",
        "밤이 오면 심장이 뜨거워지는 여자 그런 반전 있는 여자\"\"\"\n",
        "psy"
      ],
      "execution_count": 15,
      "outputs": [
        {
          "output_type": "execute_result",
          "data": {
            "text/plain": [
              "'낮에는 따사로운 인간적인 여자\\n커피 한잔의 여유를 아는 품격있는 여자\\n밤이 오면 심장이 뜨거워지는 여자 그런 반전 있는 여자'"
            ]
          },
          "metadata": {
            "tags": []
          },
          "execution_count": 15
        }
      ]
    },
    {
      "metadata": {
        "id": "XOyqBFoVtyyp",
        "colab_type": "code",
        "colab": {
          "base_uri": "https://localhost:8080/",
          "height": 71
        },
        "outputId": "fbb6a001-f56b-4368-a959-f129065206f5"
      },
      "cell_type": "code",
      "source": [
        "print(psy)"
      ],
      "execution_count": 16,
      "outputs": [
        {
          "output_type": "stream",
          "text": [
            "낮에는 따사로운 인간적인 여자\n",
            "커피 한잔의 여유를 아는 품격있는 여자\n",
            "밤이 오면 심장이 뜨거워지는 여자 그런 반전 있는 여자\n"
          ],
          "name": "stdout"
        }
      ]
    },
    {
      "metadata": {
        "id": "1oI-zvjOt-RK",
        "colab_type": "text"
      },
      "cell_type": "markdown",
      "source": [
        "## 여러 행 수식\n",
        "\n"
      ]
    },
    {
      "metadata": {
        "id": "T5oSXgcZt1gO",
        "colab_type": "code",
        "colab": {
          "base_uri": "https://localhost:8080/",
          "height": 35
        },
        "outputId": "dba9e0c8-a5cf-476c-bd9d-dddf46baf21a"
      },
      "cell_type": "code",
      "source": [
        "#역슬래시(\\)는 줄을 바꾸어 쓸 수 있게 해준다\n",
        "sum = 10 + 20 + \\\n",
        "30 + 40\n",
        "sum"
      ],
      "execution_count": 17,
      "outputs": [
        {
          "output_type": "execute_result",
          "data": {
            "text/plain": [
              "100"
            ]
          },
          "metadata": {
            "tags": []
          },
          "execution_count": 17
        }
      ]
    },
    {
      "metadata": {
        "id": "HGpH59TtuVl8",
        "colab_type": "text"
      },
      "cell_type": "markdown",
      "source": [
        "## 숫자와 문자열 처리"
      ]
    },
    {
      "metadata": {
        "id": "xSM4wCsvuLVS",
        "colab_type": "code",
        "colab": {
          "base_uri": "https://localhost:8080/",
          "height": 208
        },
        "outputId": "9c6df251-895d-4c76-b6da-8edb578d9535"
      },
      "cell_type": "code",
      "source": [
        "day=3\n",
        "date = day + \" 일\"\n",
        "print(date)"
      ],
      "execution_count": 18,
      "outputs": [
        {
          "output_type": "error",
          "ename": "TypeError",
          "evalue": "ignored",
          "traceback": [
            "\u001b[0;31m---------------------------------------------------------------------------\u001b[0m",
            "\u001b[0;31mTypeError\u001b[0m                                 Traceback (most recent call last)",
            "\u001b[0;32m<ipython-input-18-32c30f04a60b>\u001b[0m in \u001b[0;36m<module>\u001b[0;34m()\u001b[0m\n\u001b[1;32m      1\u001b[0m \u001b[0mday\u001b[0m\u001b[0;34m=\u001b[0m\u001b[0;36m3\u001b[0m\u001b[0;34m\u001b[0m\u001b[0m\n\u001b[0;32m----> 2\u001b[0;31m \u001b[0mdate\u001b[0m \u001b[0;34m=\u001b[0m \u001b[0mday\u001b[0m \u001b[0;34m+\u001b[0m \u001b[0;34m\" 일\"\u001b[0m\u001b[0;34m\u001b[0m\u001b[0m\n\u001b[0m\u001b[1;32m      3\u001b[0m \u001b[0mprint\u001b[0m\u001b[0;34m(\u001b[0m\u001b[0mdate\u001b[0m\u001b[0;34m)\u001b[0m\u001b[0;34m\u001b[0m\u001b[0m\n",
            "\u001b[0;31mTypeError\u001b[0m: unsupported operand type(s) for +: 'int' and 'str'"
          ]
        }
      ]
    },
    {
      "metadata": {
        "id": "GlgTdu65udXB",
        "colab_type": "code",
        "colab": {
          "base_uri": "https://localhost:8080/",
          "height": 35
        },
        "outputId": "ddca2942-c156-419c-9a77-b990102389ba"
      },
      "cell_type": "code",
      "source": [
        "#해결방법 -> 숫자를 문자열로 바꾸어주어야 한다.\n",
        "date = str(day) + \" 일\"\n",
        "print(date)"
      ],
      "execution_count": 19,
      "outputs": [
        {
          "output_type": "stream",
          "text": [
            "3 일\n"
          ],
          "name": "stdout"
        }
      ]
    },
    {
      "metadata": {
        "id": "l5rdHtfbu11U",
        "colab_type": "code",
        "colab": {
          "base_uri": "https://localhost:8080/",
          "height": 35
        },
        "outputId": "6373ef42-be7f-4236-e455-ae4f6db11d57"
      },
      "cell_type": "code",
      "source": [
        "day = 3\n",
        "str_day=str(day)\n",
        "date = str_day + \" 일\"\n",
        "print(date)"
      ],
      "execution_count": 21,
      "outputs": [
        {
          "output_type": "stream",
          "text": [
            "3 일\n"
          ],
          "name": "stdout"
        }
      ]
    },
    {
      "metadata": {
        "id": "_uYlspDVvV_L",
        "colab_type": "text"
      },
      "cell_type": "markdown",
      "source": [
        "## 변수 type"
      ]
    },
    {
      "metadata": {
        "id": "dnV8M01VvLUR",
        "colab_type": "code",
        "colab": {
          "base_uri": "https://localhost:8080/",
          "height": 35
        },
        "outputId": "90ebdd8c-72fd-4787-b27f-d2c3321a78e7"
      },
      "cell_type": "code",
      "source": [
        "#변수 type\n",
        "type(day)"
      ],
      "execution_count": 22,
      "outputs": [
        {
          "output_type": "execute_result",
          "data": {
            "text/plain": [
              "int"
            ]
          },
          "metadata": {
            "tags": []
          },
          "execution_count": 22
        }
      ]
    },
    {
      "metadata": {
        "id": "op_VqSuyvcIS",
        "colab_type": "code",
        "colab": {
          "base_uri": "https://localhost:8080/",
          "height": 35
        },
        "outputId": "e93b4212-e24b-49b3-9a78-cd8d39de7569"
      },
      "cell_type": "code",
      "source": [
        "type(day), type(str_day), type(date)"
      ],
      "execution_count": 23,
      "outputs": [
        {
          "output_type": "execute_result",
          "data": {
            "text/plain": [
              "(int, str, str)"
            ]
          },
          "metadata": {
            "tags": []
          },
          "execution_count": 23
        }
      ]
    },
    {
      "metadata": {
        "id": "V2-GizN3vjHa",
        "colab_type": "code",
        "colab": {
          "base_uri": "https://localhost:8080/",
          "height": 1331
        },
        "outputId": "bda1ff19-0f1e-48a0-bc6c-3056ad955521"
      },
      "cell_type": "code",
      "source": [
        "dir()\n",
        "#현재 내가 코딩하고있는 파이썬 환경에서 모든 변수를 보여주는 함수"
      ],
      "execution_count": 25,
      "outputs": [
        {
          "output_type": "execute_result",
          "data": {
            "text/plain": [
              "['In',\n",
              " 'Out',\n",
              " '_',\n",
              " '_1',\n",
              " '_13',\n",
              " '_14',\n",
              " '_15',\n",
              " '_17',\n",
              " '_2',\n",
              " '_22',\n",
              " '_23',\n",
              " '_24',\n",
              " '_3',\n",
              " '_4',\n",
              " '_5',\n",
              " '_8',\n",
              " '_TensorFlowImportHook',\n",
              " '__',\n",
              " '___',\n",
              " '__builtin__',\n",
              " '__builtins__',\n",
              " '__doc__',\n",
              " '__loader__',\n",
              " '__name__',\n",
              " '__package__',\n",
              " '__spec__',\n",
              " '_dh',\n",
              " '_i',\n",
              " '_i1',\n",
              " '_i10',\n",
              " '_i11',\n",
              " '_i12',\n",
              " '_i13',\n",
              " '_i14',\n",
              " '_i15',\n",
              " '_i16',\n",
              " '_i17',\n",
              " '_i18',\n",
              " '_i19',\n",
              " '_i2',\n",
              " '_i20',\n",
              " '_i21',\n",
              " '_i22',\n",
              " '_i23',\n",
              " '_i24',\n",
              " '_i25',\n",
              " '_i3',\n",
              " '_i4',\n",
              " '_i5',\n",
              " '_i6',\n",
              " '_i7',\n",
              " '_i8',\n",
              " '_i9',\n",
              " '_ih',\n",
              " '_ii',\n",
              " '_iii',\n",
              " '_oh',\n",
              " '_sh',\n",
              " 'date',\n",
              " 'datetime',\n",
              " 'day',\n",
              " 'exit',\n",
              " 'get_ipython',\n",
              " 'imp',\n",
              " 'logging',\n",
              " 'os',\n",
              " 'psy',\n",
              " 'quit',\n",
              " 'register_hook',\n",
              " 'some_var',\n",
              " 'str_day',\n",
              " 'sum',\n",
              " 'sys']"
            ]
          },
          "metadata": {
            "tags": []
          },
          "execution_count": 25
        }
      ]
    },
    {
      "metadata": {
        "id": "oSkS8UA9wEAs",
        "colab_type": "text"
      },
      "cell_type": "markdown",
      "source": [
        "## Python data types\n",
        "String\n",
        "Number\n",
        "Boolean\n",
        "List\n",
        "Tuple\n",
        "Dictionary"
      ]
    },
    {
      "metadata": {
        "id": "1e0XfIaCwxA9",
        "colab_type": "text"
      },
      "cell_type": "markdown",
      "source": [
        "## 문자열을 숫자로 변환 :  int(), float()\n"
      ]
    },
    {
      "metadata": {
        "id": "hlFVAM-7vhio",
        "colab_type": "code",
        "colab": {}
      },
      "cell_type": "code",
      "source": [
        "num=int(\"31\")\n",
        "pi = float(\"3.141592\")"
      ],
      "execution_count": 0,
      "outputs": []
    },
    {
      "metadata": {
        "id": "MGdPILGOw42e",
        "colab_type": "code",
        "colab": {
          "base_uri": "https://localhost:8080/",
          "height": 35
        },
        "outputId": "c218239b-115a-450f-8f5d-caeeb81b157c"
      },
      "cell_type": "code",
      "source": [
        "#num.pi\n",
        "num"
      ],
      "execution_count": 32,
      "outputs": [
        {
          "output_type": "execute_result",
          "data": {
            "text/plain": [
              "31"
            ]
          },
          "metadata": {
            "tags": []
          },
          "execution_count": 32
        }
      ]
    },
    {
      "metadata": {
        "id": "K027sra8w66v",
        "colab_type": "code",
        "colab": {
          "base_uri": "https://localhost:8080/",
          "height": 35
        },
        "outputId": "f2d8e650-213b-44f0-bf26-7a0021cb9c9b"
      },
      "cell_type": "code",
      "source": [
        "pi,type(pi)"
      ],
      "execution_count": 39,
      "outputs": [
        {
          "output_type": "execute_result",
          "data": {
            "text/plain": [
              "(3.141592, float)"
            ]
          },
          "metadata": {
            "tags": []
          },
          "execution_count": 39
        }
      ]
    },
    {
      "metadata": {
        "id": "wYHKlpX6xHFi",
        "colab_type": "code",
        "colab": {
          "base_uri": "https://localhost:8080/",
          "height": 35
        },
        "outputId": "c071dc18-48c8-4fff-9795-bd23ccacd651"
      },
      "cell_type": "code",
      "source": [
        "print(\"num = {}, pi = {}\".format(num,pi))"
      ],
      "execution_count": 37,
      "outputs": [
        {
          "output_type": "stream",
          "text": [
            "num = 31, pi = 3.141592\n"
          ],
          "name": "stdout"
        }
      ]
    },
    {
      "metadata": {
        "id": "NYiPfA5j0lez",
        "colab_type": "text"
      },
      "cell_type": "markdown",
      "source": [
        "## 예약어(keywords)"
      ]
    },
    {
      "metadata": {
        "id": "uIAj0JZOxc1f",
        "colab_type": "code",
        "colab": {
          "base_uri": "https://localhost:8080/",
          "height": 35
        },
        "outputId": "a7708314-dfac-4054-f3e8-e427f25d8f24"
      },
      "cell_type": "code",
      "source": [
        "import keyword\n",
        "\n",
        "#파이썬의 예약어 수\n",
        "\n",
        "len(keyword.kwlist)"
      ],
      "execution_count": 42,
      "outputs": [
        {
          "output_type": "execute_result",
          "data": {
            "text/plain": [
              "33"
            ]
          },
          "metadata": {
            "tags": []
          },
          "execution_count": 42
        }
      ]
    },
    {
      "metadata": {
        "id": "A2LOQ-jg0uuO",
        "colab_type": "code",
        "colab": {
          "base_uri": "https://localhost:8080/",
          "height": 35
        },
        "outputId": "a7a31ebe-660c-4576-bd1f-6d8be1c9d87a"
      },
      "cell_type": "code",
      "source": [
        "keyword"
      ],
      "execution_count": 43,
      "outputs": [
        {
          "output_type": "execute_result",
          "data": {
            "text/plain": [
              "<module 'keyword' from '/usr/lib/python3.6/keyword.py'>"
            ]
          },
          "metadata": {
            "tags": []
          },
          "execution_count": 43
        }
      ]
    },
    {
      "metadata": {
        "id": "8X1esgLT0xgu",
        "colab_type": "code",
        "colab": {
          "base_uri": "https://localhost:8080/",
          "height": 611
        },
        "outputId": "3a57f486-1481-4a1d-d613-a1c0639b95b4"
      },
      "cell_type": "code",
      "source": [
        "# 예약어 목록\n",
        "keyword.kwlist"
      ],
      "execution_count": 44,
      "outputs": [
        {
          "output_type": "execute_result",
          "data": {
            "text/plain": [
              "['False',\n",
              " 'None',\n",
              " 'True',\n",
              " 'and',\n",
              " 'as',\n",
              " 'assert',\n",
              " 'break',\n",
              " 'class',\n",
              " 'continue',\n",
              " 'def',\n",
              " 'del',\n",
              " 'elif',\n",
              " 'else',\n",
              " 'except',\n",
              " 'finally',\n",
              " 'for',\n",
              " 'from',\n",
              " 'global',\n",
              " 'if',\n",
              " 'import',\n",
              " 'in',\n",
              " 'is',\n",
              " 'lambda',\n",
              " 'nonlocal',\n",
              " 'not',\n",
              " 'or',\n",
              " 'pass',\n",
              " 'raise',\n",
              " 'return',\n",
              " 'try',\n",
              " 'while',\n",
              " 'with',\n",
              " 'yield']"
            ]
          },
          "metadata": {
            "tags": []
          },
          "execution_count": 44
        }
      ]
    },
    {
      "metadata": {
        "id": "axVGvKMW09hc",
        "colab_type": "code",
        "colab": {
          "base_uri": "https://localhost:8080/",
          "height": 136
        },
        "outputId": "27584d2c-f745-4c64-f2ae-ed28b0b6d7d2"
      },
      "cell_type": "code",
      "source": [
        "as = \"inje\"\n",
        "#키워드는 변수로 사용할 수 없는데 변수로 사용해서 오류발생"
      ],
      "execution_count": 45,
      "outputs": [
        {
          "output_type": "error",
          "ename": "SyntaxError",
          "evalue": "ignored",
          "traceback": [
            "\u001b[0;36m  File \u001b[0;32m\"<ipython-input-45-e77f5820d78a>\"\u001b[0;36m, line \u001b[0;32m1\u001b[0m\n\u001b[0;31m    as = \"inje\"\u001b[0m\n\u001b[0m     ^\u001b[0m\n\u001b[0;31mSyntaxError\u001b[0m\u001b[0;31m:\u001b[0m invalid syntax\n"
          ]
        }
      ]
    },
    {
      "metadata": {
        "id": "LUejz72n1QfX",
        "colab_type": "code",
        "colab": {
          "base_uri": "https://localhost:8080/",
          "height": 35
        },
        "outputId": "ddbcdbbd-08bb-42d2-b2e1-3e235f97b9e9"
      },
      "cell_type": "code",
      "source": [
        "#해결방법 -> 변수의 이름 앞에 _를 붙인다\n",
        "_as = \"inje\"\n",
        "_as"
      ],
      "execution_count": 47,
      "outputs": [
        {
          "output_type": "execute_result",
          "data": {
            "text/plain": [
              "'inje'"
            ]
          },
          "metadata": {
            "tags": []
          },
          "execution_count": 47
        }
      ]
    },
    {
      "metadata": {
        "id": "FGypwTPk1hba",
        "colab_type": "text"
      },
      "cell_type": "markdown",
      "source": [
        "## User input"
      ]
    },
    {
      "metadata": {
        "id": "qT8_ZsuO1dwZ",
        "colab_type": "code",
        "colab": {
          "base_uri": "https://localhost:8080/",
          "height": 35
        },
        "outputId": "cabedc14-2c40-44c9-fef4-0fab14769633"
      },
      "cell_type": "code",
      "source": [
        "name = input(\"Please write down your name here! \")\n",
        "#input 함수 : 값을 입력받는다"
      ],
      "execution_count": 57,
      "outputs": [
        {
          "output_type": "stream",
          "text": [
            "Please write down your name here! MINSU\n"
          ],
          "name": "stdout"
        }
      ]
    },
    {
      "metadata": {
        "id": "kmWXtWRw1okP",
        "colab_type": "code",
        "colab": {
          "base_uri": "https://localhost:8080/",
          "height": 35
        },
        "outputId": "585f9e6b-7ee3-48a9-9627-ffaff1b86453"
      },
      "cell_type": "code",
      "source": [
        "name"
      ],
      "execution_count": 58,
      "outputs": [
        {
          "output_type": "execute_result",
          "data": {
            "text/plain": [
              "'MINSU'"
            ]
          },
          "metadata": {
            "tags": []
          },
          "execution_count": 58
        }
      ]
    },
    {
      "metadata": {
        "id": "sINEdHu211Aa",
        "colab_type": "text"
      },
      "cell_type": "markdown",
      "source": [
        "## Code block & Indentation(들여쓰기)"
      ]
    },
    {
      "metadata": {
        "id": "VQKQmPgB1sNM",
        "colab_type": "code",
        "colab": {
          "base_uri": "https://localhost:8080/",
          "height": 71
        },
        "outputId": "909e890e-fc42-4f79-8fb3-70719ce7a4b4"
      },
      "cell_type": "code",
      "source": [
        "if(10>3): #if문이 참일 경우 들여쓰기부분 출력/거짓일 경우 출력하지않음\n",
        "  print('inside if block')\n",
        "  print('still inside if block')\n",
        "  \n",
        "print('outside if block!') #들여쓰기가 되지 않은 부분은 if문에 포함되지 않는다."
      ],
      "execution_count": 56,
      "outputs": [
        {
          "output_type": "stream",
          "text": [
            "inside if block\n",
            "still inside if block\n",
            "outside if block!\n"
          ],
          "name": "stdout"
        }
      ]
    },
    {
      "metadata": {
        "id": "uRqejlK32W3d",
        "colab_type": "code",
        "colab": {
          "base_uri": "https://localhost:8080/",
          "height": 35
        },
        "outputId": "50e98cd1-d4e4-4e62-a6ad-da096920e82f"
      },
      "cell_type": "code",
      "source": [
        "if(10<3):\n",
        "  print('inside if block')\n",
        "  print('still inside if block')\n",
        "  \n",
        "print('outside if block!')"
      ],
      "execution_count": 54,
      "outputs": [
        {
          "output_type": "stream",
          "text": [
            "outside if block!\n"
          ],
          "name": "stdout"
        }
      ]
    },
    {
      "metadata": {
        "id": "vm8npXzj20Vd",
        "colab_type": "code",
        "colab": {
          "base_uri": "https://localhost:8080/",
          "height": 136
        },
        "outputId": "dd3d6a3f-44cf-4e12-eed5-9b5ba40ea41e"
      },
      "cell_type": "code",
      "source": [
        "if(10<3): #들여쓰기가 잘못되어 오류가 난다. 파이썬은 들어쓰기가 매우 중요!\n",
        "  print('inside if block')\n",
        "    print('still inside if block')\n",
        "  \n",
        "print('outside if block!')"
      ],
      "execution_count": 55,
      "outputs": [
        {
          "output_type": "error",
          "ename": "IndentationError",
          "evalue": "ignored",
          "traceback": [
            "\u001b[0;36m  File \u001b[0;32m\"<ipython-input-55-e39b98a10245>\"\u001b[0;36m, line \u001b[0;32m3\u001b[0m\n\u001b[0;31m    print('still inside if block')\u001b[0m\n\u001b[0m    ^\u001b[0m\n\u001b[0;31mIndentationError\u001b[0m\u001b[0;31m:\u001b[0m unexpected indent\n"
          ]
        }
      ]
    },
    {
      "metadata": {
        "id": "Jz6CqkS53Xz8",
        "colab_type": "text"
      },
      "cell_type": "markdown",
      "source": [
        "### 도전 코딩 1.BMI  = M/H**2, (M(kg), H(m))\n",
        "\n"
      ]
    },
    {
      "metadata": {
        "id": "SR4Boxfe244Q",
        "colab_type": "code",
        "colab": {
          "base_uri": "https://localhost:8080/",
          "height": 71
        },
        "outputId": "565dcb44-f035-4a70-94b4-c712dcb5ca78"
      },
      "cell_type": "code",
      "source": [
        "M = int(input(\"Please write your weight : \"))\n",
        "H = float(input(\"Please write your height : \"))\n",
        "BMI = round(M/ (H*H), 1)\n",
        "BMI"
      ],
      "execution_count": 59,
      "outputs": [
        {
          "output_type": "stream",
          "text": [
            "Please write your weight : 58\n",
            "Please write your height : 1.74\n"
          ],
          "name": "stdout"
        },
        {
          "output_type": "execute_result",
          "data": {
            "text/plain": [
              "19.2"
            ]
          },
          "metadata": {
            "tags": []
          },
          "execution_count": 59
        }
      ]
    },
    {
      "metadata": {
        "id": "kdXTyqQG5xGR",
        "colab_type": "text"
      },
      "cell_type": "markdown",
      "source": [
        "### 도전 코딩 2.Fat burning"
      ]
    },
    {
      "metadata": {
        "id": "4e3U7QTF4uih",
        "colab_type": "code",
        "colab": {}
      },
      "cell_type": "code",
      "source": [
        "# 조깅에서 1kg 지방을 태우는 데 몇 시간 걸리는지를 계산\n",
        "cal_per_1kg_fat = 7200 # 지방 1kg 연소에 필요한 열량\n",
        "cal_per_1min_jog = 7.76 # 조깅 1 분에 의한 소비 칼로리"
      ],
      "execution_count": 0,
      "outputs": []
    },
    {
      "metadata": {
        "id": "9xD0r4Li5_DE",
        "colab_type": "code",
        "colab": {
          "base_uri": "https://localhost:8080/",
          "height": 53
        },
        "outputId": "d27e4d24-48fa-4c2b-f1a3-1a8d1e41f32b"
      },
      "cell_type": "code",
      "source": [
        "#조깅에서 1kg 체중 감소하는데 몇 분이 필요할까?\n",
        "min_to_lose1kg = cal_per_1kg_fat/cal_per_1min_jog\n",
        "hours_to_lose1kg = min_to_lose1kg/60 # 분을 시간으로 환산\n",
        "hours_to_lose1kg # 변수의 내용을 표시\n",
        "print(round(hours_to_lose1kg,1)) # 계산 값을 출력\n",
        "print(str(round(hours_to_lose1kg,1)) + \" 시간\")"
      ],
      "execution_count": 64,
      "outputs": [
        {
          "output_type": "stream",
          "text": [
            "15.5\n",
            "15.5 시간\n"
          ],
          "name": "stdout"
        }
      ]
    },
    {
      "metadata": {
        "id": "oolTJW716ERL",
        "colab_type": "code",
        "colab": {
          "base_uri": "https://localhost:8080/",
          "height": 35
        },
        "outputId": "7e38218f-f546-4a42-8ad4-1f800455e081"
      },
      "cell_type": "code",
      "source": [
        "print(\"{} 시간\". format(round(hours_to_lose1kg,1)))"
      ],
      "execution_count": 65,
      "outputs": [
        {
          "output_type": "stream",
          "text": [
            "15.5 시간\n"
          ],
          "name": "stdout"
        }
      ]
    },
    {
      "metadata": {
        "id": "B_cWnmRI6-FK",
        "colab_type": "code",
        "colab": {}
      },
      "cell_type": "code",
      "source": [
        ""
      ],
      "execution_count": 0,
      "outputs": []
    }
  ]
}