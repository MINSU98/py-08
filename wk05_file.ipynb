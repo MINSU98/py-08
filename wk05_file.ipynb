{
  "nbformat": 4,
  "nbformat_minor": 0,
  "metadata": {
    "colab": {
      "name": "wk05_file",
      "version": "0.3.2",
      "provenance": [],
      "collapsed_sections": [],
      "include_colab_link": true
    },
    "kernelspec": {
      "display_name": "Python 3",
      "language": "python",
      "name": "python3"
    }
  },
  "cells": [
    {
      "cell_type": "markdown",
      "metadata": {
        "id": "view-in-github",
        "colab_type": "text"
      },
      "source": [
        "[View in Colaboratory](https://colab.research.google.com/github/MINSU98/py-08/blob/master/wk05_file.ipynb)"
      ]
    },
    {
      "metadata": {
        "id": "wxfL9kc6zoxt",
        "colab_type": "text"
      },
      "cell_type": "markdown",
      "source": [
        "## 파일 (File)"
      ]
    },
    {
      "metadata": {
        "id": "dhXk_ZB2_VoX",
        "colab_type": "toc"
      },
      "cell_type": "markdown",
      "source": [
        ">>[파일 (File)](#scrollTo=wxfL9kc6zoxt)\n",
        "\n",
        ">>[파이썬의 파일 처리 (Ch.4-11)](#scrollTo=zVdseWhSzo2P)\n",
        "\n",
        ">>>[파일과 파일 객체](#scrollTo=IcmUb3Gnzo2Q)\n",
        "\n",
        ">[colab에서 파일 처리](#scrollTo=sfOSROSpLXnu)\n",
        "\n",
        ">>[Uploading files from your local file system](#scrollTo=BaCkyg5CV5jF)\n",
        "\n",
        ">>>[파일로부터 1행씩 읽어 들여 처리하기](#scrollTo=lwN9u1tdzo2T)\n",
        "\n",
        ">>>[파일에 쓰기](#scrollTo=kuOBchthzo2V)\n",
        "\n",
        ">>>[바이너리 파일을 다루기](#scrollTo=FXmtK8TGzo2W)\n",
        "\n",
        ">>>[파일명 다루기](#scrollTo=CYzoQgdczo2X)\n",
        "\n"
      ]
    },
    {
      "metadata": {
        "id": "zVdseWhSzo2P",
        "colab_type": "text"
      },
      "cell_type": "markdown",
      "source": [
        "## 파이썬의 파일 처리 (Ch.4-11)"
      ]
    },
    {
      "metadata": {
        "id": "IcmUb3Gnzo2Q",
        "colab_type": "text"
      },
      "cell_type": "markdown",
      "source": [
        "### 파일과 파일 객체"
      ]
    },
    {
      "metadata": {
        "id": "VDv3aeLJzo2Q",
        "colab_type": "code",
        "colab": {}
      },
      "cell_type": "code",
      "source": [
        "# ERROR CODE\n",
        "\n",
        "# 파일 열기\n",
        "\n",
        "# 코드를 실행할 수 있도록 샘플 코드의 같은 계층에\n",
        "# 텍스트 파일을 설치하고 있다\n",
        "\n",
        "# 파일을 열고 파일 개체를 얻음\n",
        "f = open(\"foo.txt\", \"r\", encoding=\"utf-8\")  # 파일 열기 # ut f-8 : 유니코드 # open(\"파일명\", \"모드[r : 읽기 모드]\", \"문자 형태\" )\n",
        "s = f.read()           # 파일의 내용을 문자열형 변수로 읽음\n",
        "print(s)               # 파일의 내용을 표시\n",
        "f.close()              # 파일 닫기"
      ],
      "execution_count": 0,
      "outputs": []
    },
    {
      "metadata": {
        "id": "sfOSROSpLXnu",
        "colab_type": "text"
      },
      "cell_type": "markdown",
      "source": [
        "# colab에서 파일 처리"
      ]
    },
    {
      "metadata": {
        "id": "BaCkyg5CV5jF",
        "colab_type": "text"
      },
      "cell_type": "markdown",
      "source": [
        "## Uploading files from your local file system\n",
        "\n",
        "`files.upload` returns a dictionary of the files which were uploaded.\n",
        "The dictionary is keyed by the file name, the value is the data which was uploaded."
      ]
    },
    {
      "metadata": {
        "id": "vz-jH8T_Uk2c",
        "colab_type": "code",
        "colab": {}
      },
      "cell_type": "code",
      "source": [
        "from google.colab import files\n",
        "\n",
        "uploaded = files.upload()\n",
        "\n",
        "for fn in uploaded.keys():\n",
        "  print('User uploaded file \"{name}\" with length {length} bytes'.format(\n",
        "      name=fn, length=len(uploaded[fn])))"
      ],
      "execution_count": 0,
      "outputs": []
    },
    {
      "metadata": {
        "id": "bSUuZiRhLe9w",
        "colab_type": "code",
        "colab": {}
      },
      "cell_type": "code",
      "source": [
        "# 파일 열기\n",
        "\n",
        "# 코드를 실행할 수 있도록 샘플 코드의 같은 계층에\n",
        "# 텍스트 파일을 설치하고 있다\n",
        "\n",
        "# 파일을 열고 파일 개체를 얻음\n",
        "f = open(\"foo.txt\", \"r\", encoding=\"utf-8\")  # 파일 열기\n",
        "s = f.read()           # 파일의 내용을 문자열형 변수로 읽음\n",
        "print(s)               # 파일의 내용을 표시\n",
        "f.close()              # 파일 닫기"
      ],
      "execution_count": 0,
      "outputs": []
    },
    {
      "metadata": {
        "id": "lwN9u1tdzo2T",
        "colab_type": "text"
      },
      "cell_type": "markdown",
      "source": [
        "### 파일로부터 1행씩 읽어 들여 처리하기"
      ]
    },
    {
      "metadata": {
        "id": "AllUaQRZ7fV5",
        "colab_type": "code",
        "colab": {}
      },
      "cell_type": "code",
      "source": [
        "# from google.colab import files\n",
        "\n",
        "uploaded = files.upload()\n",
        "\n",
        "for fn in uploaded.keys():\n",
        "  print('User uploaded file \"{name}\" with length {length} bytes'.format(\n",
        "      name=fn, length=len(uploaded[fn])))"
      ],
      "execution_count": 0,
      "outputs": []
    },
    {
      "metadata": {
        "id": "vCRNdgKdzo2U",
        "colab_type": "code",
        "colab": {}
      },
      "cell_type": "code",
      "source": [
        "# 텍스트 파일을 행으로 분할하기\n",
        "f = open(\"test.txt\", \"r\", encoding=\"utf-8\")  # 파일 열기\n",
        "for line in f:             # 파일로부터 1행씩 읽어냄\n",
        "    print(line, end=\" \")   # 1행씩 표시하기"
      ],
      "execution_count": 0,
      "outputs": []
    },
    {
      "metadata": {
        "id": "VQK862RmLi3G",
        "colab_type": "code",
        "colab": {}
      },
      "cell_type": "code",
      "source": [
        "s"
      ],
      "execution_count": 0,
      "outputs": []
    },
    {
      "metadata": {
        "id": "ia33PNOsLj-l",
        "colab_type": "code",
        "colab": {}
      },
      "cell_type": "code",
      "source": [
        "print(s)"
      ],
      "execution_count": 0,
      "outputs": []
    },
    {
      "metadata": {
        "id": "9w-CcV9YL2Pt",
        "colab_type": "text"
      },
      "cell_type": "markdown",
      "source": [
        "2018-10-01"
      ]
    },
    {
      "metadata": {
        "id": "QpJn5Qw88U6k",
        "colab_type": "code",
        "colab": {}
      },
      "cell_type": "code",
      "source": [
        "!ls"
      ],
      "execution_count": 0,
      "outputs": []
    },
    {
      "metadata": {
        "id": "f2IRs50W8ZY5",
        "colab_type": "code",
        "colab": {}
      },
      "cell_type": "code",
      "source": [
        "ls"
      ],
      "execution_count": 0,
      "outputs": []
    },
    {
      "metadata": {
        "id": "LkJUSX8B8eQC",
        "colab_type": "code",
        "colab": {}
      },
      "cell_type": "code",
      "source": [
        "ls sample_data/"
      ],
      "execution_count": 0,
      "outputs": []
    },
    {
      "metadata": {
        "id": "47JqOPpy8oMi",
        "colab_type": "code",
        "colab": {}
      },
      "cell_type": "code",
      "source": [
        "cat sample_data/README.md\n"
      ],
      "execution_count": 0,
      "outputs": []
    },
    {
      "metadata": {
        "id": "kuOBchthzo2V",
        "colab_type": "text"
      },
      "cell_type": "markdown",
      "source": [
        "### 파일에 쓰기"
      ]
    },
    {
      "metadata": {
        "id": "zbeZdyswzo2V",
        "colab_type": "code",
        "colab": {}
      },
      "cell_type": "code",
      "source": [
        "# 모드를 지정하여 파일을 열기\n",
        "f = open(\"newfile.txt\", \"w\", encoding=\"utf-8\")  # 모드 w로 파일 열기\n",
        "f.write(s)      # 변수 s의 문자열을 파일에 쓰기\n",
        "f.close()       # 파일 닫기"
      ],
      "execution_count": 0,
      "outputs": []
    },
    {
      "metadata": {
        "id": "_mi0qTdO9wb6",
        "colab_type": "code",
        "colab": {}
      },
      "cell_type": "code",
      "source": [
        "ls"
      ],
      "execution_count": 0,
      "outputs": []
    },
    {
      "metadata": {
        "id": "CQ911EFm9zKj",
        "colab_type": "code",
        "colab": {}
      },
      "cell_type": "code",
      "source": [
        "cat newfile.txt"
      ],
      "execution_count": 0,
      "outputs": []
    },
    {
      "metadata": {
        "id": "FXmtK8TGzo2W",
        "colab_type": "text"
      },
      "cell_type": "markdown",
      "source": [
        "### 바이너리 파일을 다루기"
      ]
    },
    {
      "metadata": {
        "id": "ia5KxThB9a08",
        "colab_type": "code",
        "colab": {}
      },
      "cell_type": "code",
      "source": [
        "from google.colab import files\n",
        "\n",
        "uploaded = files.upload()\n",
        "\n",
        "for fn in uploaded.keys():\n",
        "  print('User uploaded file \"{name}\" with length {length} bytes'.format(\n",
        "      name=fn, length=len(uploaded[fn])))"
      ],
      "execution_count": 0,
      "outputs": []
    },
    {
      "metadata": {
        "id": "tqpzWU85zo2W",
        "colab_type": "code",
        "colab": {}
      },
      "cell_type": "code",
      "source": [
        "imgfile = open('colab.png', 'rb')\n",
        "imgsrc = imgfile.read()\n",
        "if imgsrc[1:4] == b'PNG':\n",
        "    print('image/png')"
      ],
      "execution_count": 0,
      "outputs": []
    },
    {
      "metadata": {
        "id": "1tUW0MEHN7Pb",
        "colab_type": "code",
        "colab": {}
      },
      "cell_type": "code",
      "source": [
        "imgfile"
      ],
      "execution_count": 0,
      "outputs": []
    },
    {
      "metadata": {
        "id": "2Ep0e2hsOAh5",
        "colab_type": "code",
        "colab": {}
      },
      "cell_type": "code",
      "source": [
        "# imgsrc"
      ],
      "execution_count": 0,
      "outputs": []
    },
    {
      "metadata": {
        "id": "1YfAOHbS-REF",
        "colab_type": "code",
        "colab": {}
      },
      "cell_type": "code",
      "source": [
        "# Browse an image in colab cloud.\n",
        "from IPython.display import Image, display\n",
        "display(Image('colab.png'))"
      ],
      "execution_count": 0,
      "outputs": []
    },
    {
      "metadata": {
        "id": "CYzoQgdczo2X",
        "colab_type": "text"
      },
      "cell_type": "markdown",
      "source": [
        "### 파일명 다루기"
      ]
    },
    {
      "metadata": {
        "id": "r8tctofrzo2Y",
        "colab_type": "code",
        "colab": {}
      },
      "cell_type": "code",
      "source": [
        "# 인코딩 확인하기\n",
        "import sys    # sys 모듈을 임포트\n",
        "# 파일 시스템의 인코딩을 표시\n",
        "sys.getfilesystemencoding()"
      ],
      "execution_count": 0,
      "outputs": []
    },
    {
      "metadata": {
        "id": "GoXQMf5sV179",
        "colab_type": "text"
      },
      "cell_type": "markdown",
      "source": [
        "### [DIY] \"The end of the world\" 가사에 사용된 영어 단어 수를 정리하시오.\n",
        "\n",
        "> [참고] 딕셔너리의 키를 이용한 영어 단어 출현 수 계산 코드 (wk04 code 참조)"
      ]
    },
    {
      "metadata": {
        "id": "NNFeL0IPaalL",
        "colab_type": "text"
      },
      "cell_type": "markdown",
      "source": [
        "##### 영어 단어 출현 수를 딕셔너리에서 계산(wk04)\n",
        "\n"
      ]
    },
    {
      "metadata": {
        "id": "qHJXJPYKZah9",
        "colab_type": "code",
        "colab": {}
      },
      "cell_type": "code",
      "source": [
        "line = \"The end of the world\"\n",
        "\n",
        "wordcnt = {}\n",
        "\n",
        "for word in line.split():\n",
        "  if word in wordcnt:\n",
        "    wordcnt[word] = wordcnt[word] + 1\n",
        "  else:\n",
        "    wordcnt[word] = 1\n",
        "\n",
        "wordcnt"
      ],
      "execution_count": 0,
      "outputs": []
    },
    {
      "metadata": {
        "id": "YVgK4x8hSPvV",
        "colab_type": "code",
        "colab": {}
      },
      "cell_type": "code",
      "source": [
        "line = \"The end of the world\"\n",
        "\n",
        "wordcnt = {}\n",
        "\n",
        "for word in line.split():\n",
        "  wordcnt[word] = wordcnt.get(word,0) + 1\n",
        "  \n",
        "wordcnt"
      ],
      "execution_count": 0,
      "outputs": []
    },
    {
      "metadata": {
        "id": "p1hm7VimZDAY",
        "colab_type": "code",
        "colab": {}
      },
      "cell_type": "code",
      "source": [
        "line = \"The end of the world\"\n",
        "\n",
        "wordcnt = {}\n",
        "\n",
        "for word in line.split():\n",
        "  wordcnt[word] = wordcnt.setdefault(word,0) + 1\n",
        "  \n",
        "wordcnt"
      ],
      "execution_count": 0,
      "outputs": []
    },
    {
      "metadata": {
        "id": "cTIi-jdZciX4",
        "colab_type": "text"
      },
      "cell_type": "markdown",
      "source": [
        "#### MY CODE"
      ]
    },
    {
      "metadata": {
        "id": "ATM3hZBUaOUD",
        "colab_type": "code",
        "colab": {}
      },
      "cell_type": "code",
      "source": [
        "line = \"The end of the world\"\n",
        "\n",
        "wordcnt = {}\n",
        "\n",
        "for word in line.split():\n",
        "  wordcnt[word] = wordcnt.get(word,0) + 1\n",
        "  \n",
        "# print(wordcnt.values())\n",
        "  \n",
        "num = sum(wordcnt.values())\n",
        "\n",
        "print(\"사용된 영어 단어 수: \", num , \"개\")"
      ],
      "execution_count": 0,
      "outputs": []
    },
    {
      "metadata": {
        "id": "H1iONY_pccs1",
        "colab_type": "code",
        "colab": {}
      },
      "cell_type": "code",
      "source": [
        ""
      ],
      "execution_count": 0,
      "outputs": []
    }
  ]
}